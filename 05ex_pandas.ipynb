{
 "cells": [
  {
   "cell_type": "code",
   "execution_count": 7,
   "id": "b4c08c81-edb3-4ff1-b166-6c263ab959cd",
   "metadata": {},
   "outputs": [
    {
     "name": "stdout",
     "output_type": "stream",
     "text": [
      "       HEAD  FPGA  TDC_CHANNEL   ORBIT_CNT  BX_COUNTER  TDC_MEAS\n",
      "0         1     0          123  3869200167        2374        26\n",
      "1         1     0          124  3869200167        2374        27\n",
      "2         1     0           63  3869200167        2553        28\n",
      "3         1     0           64  3869200167        2558        19\n",
      "4         1     0           64  3869200167        2760        25\n",
      "...     ...   ...          ...         ...         ...       ...\n",
      "10095     1     1           20  3869200268        1214         6\n",
      "10096     1     1           20  3869200268        1225        10\n",
      "10097     1     0           80  3869200268        1226         9\n",
      "10098     1     0           53  3869200268        1313         4\n",
      "10099     1     1            2  3869200268        1313        28\n",
      "\n",
      "[10100 rows x 6 columns]\n"
     ]
    }
   ],
   "source": [
    "#number1\n",
    "import pandas as pd\n",
    "import numpy as np\n",
    "\n",
    "# Define the file path\n",
    "file_path = r'C:\\Users\\dell\\Desktop\\data\\data_000637.txt'\n",
    "rows=10100# specify a given number of rows\n",
    "\n",
    "# Read the data into a Pandas DataFrame\n",
    "df = pd.read_csv(file_path, nrows=rows)\n",
    "print(df)"
   ]
  },
  {
   "cell_type": "code",
   "execution_count": 18,
   "id": "ab87c50c-40b9-497b-9964-73bf95eb433d",
   "metadata": {},
   "outputs": [
    {
     "name": "stdout",
     "output_type": "stream",
     "text": [
      "ORBIT_CNT\n",
      "3869200167    3187\n",
      "3869200168    3538\n",
      "3869200169    2766\n",
      "3869200170    3377\n",
      "3869200171    3542\n",
      "              ... \n",
      "3869200264    3067\n",
      "3869200265    3484\n",
      "3869200266    1859\n",
      "3869200267    3490\n",
      "3869200268    1313\n",
      "Name: BX_COUNTER, Length: 102, dtype: int64\n",
      "\n",
      "Maximum BX_COUNTER value before reset: 3563\n",
      "\n"
     ]
    }
   ],
   "source": [
    "#NUMBER2\n",
    "\n",
    "import pandas as pd\n",
    "import numpy as np\n",
    "\n",
    "file_path = r'C:\\Users\\dell\\Desktop\\data\\data_000637.txt'\n",
    "rows=10100# specify a given number of rows\n",
    "\n",
    "# Read the data into a Pandas DataFrame\n",
    "data = pd.read_csv(file_path, nrows=rows)\n",
    "\n",
    "# Group by ORBIT_CNT and find the maximum BX_COUNTER value within each ORBIT_CNT\n",
    "max_Obt = data.groupby('ORBIT_CNT')['BX_COUNTER'].max()\n",
    "print(max_Obt)\n",
    "print()\n",
    "\n",
    "# Find the maximum value before BX_COUNTER resets to 0\n",
    "V_max = max_Obt.max()\n",
    "\n",
    "print(\"Maximum BX_COUNTER value before reset:\", V_max)\n",
    "print()"
   ]
  },
  {
   "cell_type": "markdown",
   "id": "c6e06b03-aef1-47eb-8a06-82998141d588",
   "metadata": {},
   "source": []
  },
  {
   "cell_type": "markdown",
   "id": "6f3aa4a0-82db-44b9-a642-5148f9398971",
   "metadata": {},
   "source": []
  },
  {
   "cell_type": "code",
   "execution_count": 34,
   "id": "60a135de-e2d5-458a-a91a-14b932ec2a26",
   "metadata": {},
   "outputs": [
    {
     "name": "stdout",
     "output_type": "stream",
     "text": [
      "The DataFrame after adding a new Column:\n",
      "        HEAD  FPGA  TDC_CHANNEL    ORBIT_CNT  BX_COUNTER  TDC_MEAS     Abs_time\n",
      "0         1     0          123  96730004175        2374        26  96730006575\n",
      "1         1     0          124  96730004175        2374        27  96730006576\n",
      "2         1     0           63  96730004175        2553        28  96730006756\n",
      "3         1     0           64  96730004175        2558        19  96730006752\n",
      "4         1     0           64  96730004175        2760        25  96730006960\n",
      "...     ...   ...          ...          ...         ...       ...          ...\n",
      "10095     1     1           20  96730006700        1214         6  96730007920\n",
      "10096     1     1           20  96730006700        1225        10  96730007935\n",
      "10097     1     0           80  96730006700        1226         9  96730007935\n",
      "10098     1     0           53  96730006700        1313         4  96730008017\n",
      "10099     1     1            2  96730006700        1313        28  96730008041\n",
      "\n",
      "[10100 rows x 7 columns]\n",
      "\n",
      "offset to make the start of data acquisition as zero\n",
      "\n",
      "       HEAD  FPGA  TDC_CHANNEL    ORBIT_CNT  BX_COUNTER  TDC_MEAS  \\\n",
      "0         1     0          123  96730004175        2374        26   \n",
      "1         1     0          124  96730004175        2374        27   \n",
      "2         1     0           63  96730004175        2553        28   \n",
      "3         1     0           64  96730004175        2558        19   \n",
      "4         1     0           64  96730004175        2760        25   \n",
      "...     ...   ...          ...          ...         ...       ...   \n",
      "10095     1     1           20  96730006700        1214         6   \n",
      "10096     1     1           20  96730006700        1225        10   \n",
      "10097     1     0           80  96730006700        1226         9   \n",
      "10098     1     0           53  96730006700        1313         4   \n",
      "10099     1     1            2  96730006700        1313        28   \n",
      "\n",
      "                       Abs_time  A_T_ns_F_START  \n",
      "0     0 days 00:00:00.000002352            2352  \n",
      "1     0 days 00:00:00.000002353            2353  \n",
      "2     0 days 00:00:00.000002533            2533  \n",
      "3     0 days 00:00:00.000002529            2529  \n",
      "4     0 days 00:00:00.000002737            2737  \n",
      "...                         ...             ...  \n",
      "10095 0 days 00:00:00.000003697            3697  \n",
      "10096 0 days 00:00:00.000003712            3712  \n",
      "10097 0 days 00:00:00.000003712            3712  \n",
      "10098 0 days 00:00:00.000003794            3794  \n",
      "10099 0 days 00:00:00.000003818            3818  \n",
      "\n",
      "[10100 rows x 8 columns]\n"
     ]
    }
   ],
   "source": [
    "#number 3\n",
    "import pandas as pd\n",
    "import numpy as p\n",
    "\n",
    "# the dataframe\n",
    "\n",
    "file_path = r'C:\\Users\\dell\\Desktop\\data\\data_000637.txt'\n",
    "rows=10100# specify a given number of rows\n",
    "df = pd.read_csv(file_path, nrows=rows)\n",
    "#print(df)\n",
    "\n",
    "# Constants for time conversion\n",
    "TDC_MEAS= 25/30  #  nanoseconds\n",
    "BX_COUNTER =25 # nanoseconds\n",
    "df['ORBIT_CNT'] = df['ORBIT_CNT'] * BX_COUNTER # to nano seconds\n",
    "\n",
    "# adding a new column on ['HEAD'  'FPGA'  'TDC_CHANNEL'   'ORBIT_CNT'  'BX_COUNTER'  'TDC_MEAS']\n",
    "df['Abs_time'] = df.loc[:,['ORBIT_CNT','BX_COUNTER', 'TDC_MEAS']].sum(axis=1)\n",
    "print(\"The DataFrame after adding a new Column:\\n\", df)\n",
    "print()\n",
    "\n",
    "\n",
    "print(\"offset to make the start of data acquisition as zero\")\n",
    "S_time = df['Abs_time'].min()\n",
    "df['A_T_ns_F_START'] = df['Abs_time'] - S_time\n",
    "print()\n",
    "\n",
    "\n",
    "df['Abs_time'] = pd.to_timedelta(df['A_T_ns_F_START'], unit='ns')\n",
    "print(df)\n",
    "\n"
   ]
  },
  {
   "cell_type": "code",
   "execution_count": 45,
   "id": "a93fb514-c74c-4dd8-8612-9d6f6054c3f5",
   "metadata": {
    "tags": []
   },
   "outputs": [
    {
     "name": "stdout",
     "output_type": "stream",
     "text": [
      "The DataFrame after adding a new Column, results in nanoseconds:\n",
      "        HEAD  FPGA  TDC_CHANNEL    ORBIT_CNT  BX_COUNTER  TDC_MEAS     Abs_time\n",
      "0         1     0          123  96730004175        2374        26  96730006575\n",
      "1         1     0          124  96730004175        2374        27  96730006576\n",
      "2         1     0           63  96730004175        2553        28  96730006756\n",
      "3         1     0           64  96730004175        2558        19  96730006752\n",
      "4         1     0           64  96730004175        2760        25  96730006960\n",
      "...     ...   ...          ...          ...         ...       ...          ...\n",
      "10095     1     1           20  96730006700        1214         6  96730007920\n",
      "10096     1     1           20  96730006700        1225        10  96730007935\n",
      "10097     1     0           80  96730006700        1226         9  96730007935\n",
      "10098     1     0           53  96730006700        1313         4  96730008017\n",
      "10099     1     1            2  96730006700        1313        28  96730008041\n",
      "\n",
      "[10100 rows x 7 columns]\n",
      "\n",
      "offset to make the start of data acquisition as zero\n",
      "\n",
      "       HEAD  FPGA  TDC_CHANNEL    ORBIT_CNT  BX_COUNTER  TDC_MEAS  \\\n",
      "0         1     0          123  96730004175        2374        26   \n",
      "1         1     0          124  96730004175        2374        27   \n",
      "2         1     0           63  96730004175        2553        28   \n",
      "3         1     0           64  96730004175        2558        19   \n",
      "4         1     0           64  96730004175        2760        25   \n",
      "...     ...   ...          ...          ...         ...       ...   \n",
      "10095     1     1           20  96730006700        1214         6   \n",
      "10096     1     1           20  96730006700        1225        10   \n",
      "10097     1     0           80  96730006700        1226         9   \n",
      "10098     1     0           53  96730006700        1313         4   \n",
      "10099     1     1            2  96730006700        1313        28   \n",
      "\n",
      "                       Abs_time  A_T_ns_F_START  \n",
      "0     0 days 00:00:00.000002352            2352  \n",
      "1     0 days 00:00:00.000002353            2353  \n",
      "2     0 days 00:00:00.000002533            2533  \n",
      "3     0 days 00:00:00.000002529            2529  \n",
      "4     0 days 00:00:00.000002737            2737  \n",
      "...                         ...             ...  \n",
      "10095 0 days 00:00:00.000003697            3697  \n",
      "10096 0 days 00:00:00.000003712            3712  \n",
      "10097 0 days 00:00:00.000003712            3712  \n",
      "10098 0 days 00:00:00.000003794            3794  \n",
      "10099 0 days 00:00:00.000003818            3818  \n",
      "\n",
      "[10100 rows x 8 columns]\n",
      "Duration IS: 0 hours, 0 minutes, 0 seconds\n",
      "\n"
     ]
    }
   ],
   "source": [
    "#number4\n",
    "import pandas as pd\n",
    "import numpy as np\n",
    "# Load the whole dataset\n",
    "file_path = r'C:\\Users\\dell\\Desktop\\data\\data_000637.txt'\n",
    "rows=10100# specify a given number of rows\n",
    "df = pd.read_csv(file_path, nrows=rows)\n",
    "\n",
    "\n",
    "# Constants for time conversion\n",
    "TDC_MEAS= 25/30  #  nanoseconds\n",
    "BX_COUNTER =25 # nanoseconds\n",
    "df['ORBIT_CNT'] = df['ORBIT_CNT'] * BX_COUNTER # to nano seconds\n",
    "\n",
    "# adding a new column on ['HEAD'  'FPGA'  'TDC_CHANNEL'   'ORBIT_CNT'  'BX_COUNTER'  'TDC_MEAS']\n",
    "df['Abs_time'] = df.loc[:,['ORBIT_CNT','BX_COUNTER', 'TDC_MEAS']].sum(axis=1)\n",
    "print(\"The DataFrame after adding a new Column, results in nanoseconds:\\n\", df)\n",
    "print()\n",
    "\n",
    "print(\"offset to make the start of data acquisition as zero\")\n",
    "S_time = df['Abs_time'].min()\n",
    "df['A_T_ns_F_START'] = df['Abs_time'] - S_time\n",
    "print()\n",
    "\n",
    "df['Abs_time'] = pd.to_timedelta(df['A_T_ns_F_START'], unit='ns')\n",
    "print(df)\n",
    "S_time = df['Abs_time'].min()\n",
    "E_time = df['Abs_time'].max()\n",
    "\n",
    "# Calculate the duration of data taking\n",
    "D = E_time - S_time\n",
    "\n",
    "# duration in hours, minutes, and seconds\n",
    "HOURS = D.components.hours\n",
    "MINUTES = D.components.minutes\n",
    "SECONDS = D.components.seconds\n",
    "\n",
    "print(f\"Duration IS: {HOURS} hours, {MINUTES} minutes, {SECONDS} seconds\")\n",
    "print()\n",
    "\n",
    "\n"
   ]
  },
  {
   "cell_type": "code",
   "execution_count": 1,
   "id": "dd780095-427c-425f-923e-6257f4558663",
   "metadata": {
    "tags": []
   },
   "outputs": [
    {
     "name": "stdout",
     "output_type": "stream",
     "text": [
      "The top three noisy channels are:\n",
      "     TDC_CHANNEL  COUNT\n",
      "128          139    868\n",
      "62            63    504\n",
      "63            64    496\n",
      "\n"
     ]
    }
   ],
   "source": [
    "#number 5\n",
    "import pandas as pd\n",
    "import numpy as np\n",
    "\n",
    "# Load the whole dataset\n",
    "file_path = r'C:\\Users\\dell\\Desktop\\data\\data_000637.txt'\n",
    "rows=10100# specify a given number of rows\n",
    "df = pd.read_csv(file_path, nrows=rows)\n",
    "\n",
    "# Group by TDC_CHANNEL and count occurrences\n",
    "C_count = df.groupby('TDC_CHANNEL').size().reset_index(name='COUNT')\n",
    "\n",
    "# Sort the channels by count in descending order\n",
    "Order = C_count.sort_values(by='COUNT', ascending=False)\n",
    "\n",
    "# Get the top 3 noisy channels and their counts\n",
    "N_Channels = Order.head(3)\n",
    "\n",
    "# Print the top 3 noisy channels and their counts\n",
    "print(\"The top three noisy channels are:\")\n",
    "print(N_Channels[['TDC_CHANNEL', 'COUNT']])\n",
    "print()\n"
   ]
  },
  {
   "cell_type": "code",
   "execution_count": 11,
   "id": "915e8d89-714a-4928-9114-a0f239409ef1",
   "metadata": {},
   "outputs": [
    {
     "name": "stdout",
     "output_type": "stream",
     "text": [
      "the Number of non-empty orbits is: 102\n",
      "\n"
     ]
    }
   ],
   "source": [
    "#NUMBER 6\n",
    "\n",
    "import pandas as pd\n",
    "import numpy as np\n",
    "\n",
    "# Load the whole dataset\n",
    "file_path = r'C:\\Users\\dell\\Desktop\\data\\data_000637.txt'\n",
    "rows=10100# specify a given number of rows\n",
    "df = pd.read_csv(file_path, nrows=rows)\n",
    "\n",
    "# Group by ORBIT_CNT and count unique orbits\n",
    "Nempty_Obt = df.groupby('ORBIT_CNT')['TDC_CHANNEL'].nunique()\n",
    "Num_Nempty_Obt = Nempty_Obt.count()\n",
    "\n",
    "print(\"the Number of non-empty orbits is:\", Num_Nempty_Obt)\n",
    "print()\n",
    "\n"
   ]
  },
  {
   "cell_type": "code",
   "execution_count": 2,
   "id": "da046115-b58b-4518-826e-f2ff5802d01b",
   "metadata": {},
   "outputs": [
    {
     "name": "stdout",
     "output_type": "stream",
     "text": [
      "Number of unique orbits with at least one measurement from TDC_CHANNEL=139:\n",
      " 102\n"
     ]
    }
   ],
   "source": [
    "#NUMBER 7\n",
    "\n",
    "import pandas as pd\n",
    "\n",
    "# Load the whole dataset\n",
    "file_path = r'C:\\Users\\dell\\Desktop\\data\\data_000637.txt'\n",
    "rows=10100# specify a given number of rows\n",
    "df = pd.read_csv(file_path, nrows=rows)\n",
    "\n",
    "#Filter the DataFrame for TDC_CHANNEL=139\n",
    "Nunq_Obt = df[df['TDC_CHANNEL'] == 139]\n",
    "\n",
    "#Count the number of unique orbits with at least one measurement from TDC_CHANNEL=139\n",
    "Nunq_Obt_139 = Nunq_Obt['ORBIT_CNT'].nunique()\n",
    "\n",
    "print(\"Number of unique orbits with at least one measurement from TDC_CHANNEL=139:\\n\",Nunq_Obt_139)\n",
    "#print()\n",
    "#count_nempty = 0\n",
    "#count_fromtdc =0\n",
    "#for i in range(data['ORBIT_CNT'][0], data['ORBIT_CNT'][14999]):\n",
    " #   if i in list(zip(*data.values.tolist()))[3]:\n",
    "   #     count_nempty+=1\n",
    "   #     a = data.loc[(data['ORBIT_CNT'] == i) & (data['TDC_CHANNEL']==139)]\n",
    "   #     if not a.empty: \n",
    "   #         count_fromtdc += 1\n",
    "        \n",
    "#print(\"Number of non-empty orbits with at least one measurement from TDC_CHANNEL=139: \",count_fromtdc)\n"
   ]
  },
  {
   "cell_type": "code",
   "execution_count": 7,
   "id": "edc307f9-2ec3-44b2-a112-6bc90fca67c3",
   "metadata": {},
   "outputs": [
    {
     "name": "stdout",
     "output_type": "stream",
     "text": [
      "The FPGA identified with 0:\n",
      " TDC_CHANNEL\n",
      "139    606\n",
      "63     501\n",
      "64     484\n",
      "61     376\n",
      "62     358\n",
      "      ... \n",
      "106      3\n",
      "97       3\n",
      "101      3\n",
      "98       2\n",
      "99       1\n",
      "Name: count, Length: 117, dtype: int64\n"
     ]
    }
   ],
   "source": [
    "#NUMBER 8\n",
    "import pandas as pd\n",
    "\n",
    "file_path = r'C:\\Users\\dell\\Desktop\\data\\data_000637.txt'\n",
    "rows=10100# specify a given number of rows\n",
    "df = pd.read_csv(file_path, nrows=rows)\n",
    "\n",
    "fpga_0 = pd.Series(df[df['FPGA']==0]['TDC_CHANNEL'].value_counts()) ##selecting FPGA with number 0 and counting each instance of TDC_CHANNEL value\n",
    "fpga_1 = pd.Series(df[df['FPGA']==1]['TDC_CHANNEL'].value_counts()) ##selecting FPGA with number 1 and counting each instance of TDC_CHANNEL value\n",
    "print(\"The FPGA identified with 0:\\n\", fpga_0)"
   ]
  },
  {
   "cell_type": "code",
   "execution_count": 9,
   "id": "08d04455-c980-4084-b8f5-7afb1e754279",
   "metadata": {},
   "outputs": [
    {
     "data": {
      "text/plain": [
       "Text(0, 0.5, 'Count')"
      ]
     },
     "execution_count": 9,
     "metadata": {},
     "output_type": "execute_result"
    },
    {
     "data": {
      "image/png": "[encoded data removed]",
      "text/plain": [
       "<Figure size 640x480 with 2 Axes>"
      ]
     },
     "metadata": {},
     "output_type": "display_data"
    }
   ],
   "source": [
    "import matplotlib.pyplot as plt\n",
    "import pandas as pd\n",
    "\n",
    "a = df.groupby('TDC_CHANNEL').count()['FPGA']\n",
    "fig, (ax1, ax2, ) = plt.subplots(1, 2,)\n",
    "\n",
    "ax1.hist(fpga_0) ##create histogtram\n",
    "ax1.set_title('FPGA_0')\n",
    "ax1.set_xlabel('TDC channel')\n",
    "ax1.set_ylabel('Count')\n",
    "\n",
    "ax2.hist(fpga_1)\n",
    "ax2.set_title('FPGA_1')\n",
    "ax2.set_xlabel('TDC channel')\n",
    "ax2.set_ylabel('Count')"
   ]
  },
  {
   "cell_type": "code",
   "execution_count": null,
   "id": "11616d59-7d74-43bf-9d59-23b48c50a0f4",
   "metadata": {},
   "outputs": [],
   "source": []
  }
 ],
 "metadata": {
  "kernelspec": {
   "display_name": "Python 3 (ipykernel)",
   "language": "python",
   "name": "python3"
  },
  "language_info": {
   "codemirror_mode": {
    "name": "ipython",
    "version": 3
   },
   "file_extension": ".py",
   "mimetype": "text/x-python",
   "name": "python",
   "nbconvert_exporter": "python",
   "pygments_lexer": "ipython3",
   "version": "3.12.0"
  }
 },
 "nbformat": 4,
 "nbformat_minor": 5
}
